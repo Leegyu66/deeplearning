{
 "cells": [
  {
   "cell_type": "code",
   "execution_count": 1,
   "id": "5033cfbc",
   "metadata": {
    "_cell_guid": "b1076dfc-b9ad-4769-8c92-a6c4dae69d19",
    "_uuid": "8f2839f25d086af736a60e9eeb907d3b93b6e0e5",
    "execution": {
     "iopub.execute_input": "2023-03-03T01:18:54.164448Z",
     "iopub.status.busy": "2023-03-03T01:18:54.163952Z",
     "iopub.status.idle": "2023-03-03T01:18:54.179960Z",
     "shell.execute_reply": "2023-03-03T01:18:54.178385Z"
    },
    "papermill": {
     "duration": 0.03105,
     "end_time": "2023-03-03T01:18:54.183494",
     "exception": false,
     "start_time": "2023-03-03T01:18:54.152444",
     "status": "completed"
    },
    "tags": []
   },
   "outputs": [
    {
     "name": "stdout",
     "output_type": "stream",
     "text": [
      "/kaggle/input/digit-recognizer/sample_submission.csv\n",
      "/kaggle/input/digit-recognizer/train.csv\n",
      "/kaggle/input/digit-recognizer/test.csv\n"
     ]
    }
   ],
   "source": [
    "# This Python 3 environment comes with many helpful analytics libraries installed\n",
    "# It is defined by the kaggle/python Docker image: https://github.com/kaggle/docker-python\n",
    "# For example, here's several helpful packages to load\n",
    "\n",
    "import numpy as np # linear algebra\n",
    "import pandas as pd # data processing, CSV file I/O (e.g. pd.read_csv)\n",
    "\n",
    "# Input data files are available in the read-only \"../input/\" directory\n",
    "# For example, running this (by clicking run or pressing Shift+Enter) will list all files under the input directory\n",
    "\n",
    "import os\n",
    "for dirname, _, filenames in os.walk('/kaggle/input'):\n",
    "    for filename in filenames:\n",
    "        print(os.path.join(dirname, filename))\n",
    "\n",
    "# You can write up to 20GB to the current directory (/kaggle/working/) that gets preserved as output when you create a version using \"Save & Run All\" \n",
    "# You can also write temporary files to /kaggle/temp/, but they won't be saved outside of the current session"
   ]
  },
  {
   "cell_type": "code",
   "execution_count": 2,
   "id": "d0ea3c7c",
   "metadata": {
    "execution": {
     "iopub.execute_input": "2023-03-03T01:18:54.203059Z",
     "iopub.status.busy": "2023-03-03T01:18:54.202667Z",
     "iopub.status.idle": "2023-03-03T01:18:55.268792Z",
     "shell.execute_reply": "2023-03-03T01:18:55.267721Z"
    },
    "papermill": {
     "duration": 1.078973,
     "end_time": "2023-03-03T01:18:55.271663",
     "exception": false,
     "start_time": "2023-03-03T01:18:54.192690",
     "status": "completed"
    },
    "tags": []
   },
   "outputs": [],
   "source": [
    "import matplotlib.pyplot as plt\n",
    "from sklearn.model_selection import train_test_split\n",
    "import numpy as np\n",
    "import pandas as pd"
   ]
  },
  {
   "cell_type": "code",
   "execution_count": 3,
   "id": "4586dea3",
   "metadata": {
    "execution": {
     "iopub.execute_input": "2023-03-03T01:18:55.291554Z",
     "iopub.status.busy": "2023-03-03T01:18:55.290382Z",
     "iopub.status.idle": "2023-03-03T01:19:01.297290Z",
     "shell.execute_reply": "2023-03-03T01:19:01.295838Z"
    },
    "papermill": {
     "duration": 6.019958,
     "end_time": "2023-03-03T01:19:01.300263",
     "exception": false,
     "start_time": "2023-03-03T01:18:55.280305",
     "status": "completed"
    },
    "tags": []
   },
   "outputs": [],
   "source": [
    "train_data = pd.read_csv(\"/kaggle/input/digit-recognizer/train.csv\")\n",
    "test_data = pd.read_csv(\"/kaggle/input/digit-recognizer/test.csv\")"
   ]
  },
  {
   "cell_type": "code",
   "execution_count": 4,
   "id": "c931c62d",
   "metadata": {
    "execution": {
     "iopub.execute_input": "2023-03-03T01:19:01.319161Z",
     "iopub.status.busy": "2023-03-03T01:19:01.318777Z",
     "iopub.status.idle": "2023-03-03T01:19:01.326589Z",
     "shell.execute_reply": "2023-03-03T01:19:01.325453Z"
    },
    "papermill": {
     "duration": 0.020692,
     "end_time": "2023-03-03T01:19:01.329347",
     "exception": false,
     "start_time": "2023-03-03T01:19:01.308655",
     "status": "completed"
    },
    "tags": []
   },
   "outputs": [
    {
     "data": {
      "text/plain": [
       "(28000, 784)"
      ]
     },
     "execution_count": 4,
     "metadata": {},
     "output_type": "execute_result"
    }
   ],
   "source": [
    "test_data.head()\n",
    "test_data.shape"
   ]
  },
  {
   "cell_type": "code",
   "execution_count": 5,
   "id": "01dd3124",
   "metadata": {
    "execution": {
     "iopub.execute_input": "2023-03-03T01:19:01.348018Z",
     "iopub.status.busy": "2023-03-03T01:19:01.347634Z",
     "iopub.status.idle": "2023-03-03T01:19:01.491067Z",
     "shell.execute_reply": "2023-03-03T01:19:01.489868Z"
    },
    "papermill": {
     "duration": 0.156237,
     "end_time": "2023-03-03T01:19:01.493943",
     "exception": false,
     "start_time": "2023-03-03T01:19:01.337706",
     "status": "completed"
    },
    "tags": []
   },
   "outputs": [],
   "source": [
    "train_data.head()\n",
    "train_data.shape\n",
    "pixel_data = train_data.iloc[:, 1:785]\n",
    "number = np.array(pixel_data)\n",
    "number = number.reshape(len(pixel_data), 28, 28, 1)"
   ]
  },
  {
   "cell_type": "code",
   "execution_count": 6,
   "id": "b79e0deb",
   "metadata": {
    "execution": {
     "iopub.execute_input": "2023-03-03T01:19:01.513382Z",
     "iopub.status.busy": "2023-03-03T01:19:01.512952Z",
     "iopub.status.idle": "2023-03-03T01:19:01.523925Z",
     "shell.execute_reply": "2023-03-03T01:19:01.523079Z"
    },
    "papermill": {
     "duration": 0.023688,
     "end_time": "2023-03-03T01:19:01.526223",
     "exception": false,
     "start_time": "2023-03-03T01:19:01.502535",
     "status": "completed"
    },
    "tags": []
   },
   "outputs": [],
   "source": [
    "label = train_data['label']"
   ]
  },
  {
   "cell_type": "code",
   "execution_count": 7,
   "id": "d0487844",
   "metadata": {
    "execution": {
     "iopub.execute_input": "2023-03-03T01:19:01.545270Z",
     "iopub.status.busy": "2023-03-03T01:19:01.544861Z",
     "iopub.status.idle": "2023-03-03T01:19:01.806180Z",
     "shell.execute_reply": "2023-03-03T01:19:01.804908Z"
    },
    "papermill": {
     "duration": 0.274239,
     "end_time": "2023-03-03T01:19:01.809068",
     "exception": false,
     "start_time": "2023-03-03T01:19:01.534829",
     "status": "completed"
    },
    "tags": []
   },
   "outputs": [
    {
     "data": {
      "text/plain": [
       "Text(0.5, 1.0, 'label = 1')"
      ]
     },
     "execution_count": 7,
     "metadata": {},
     "output_type": "execute_result"
    },
    {
     "data": {
      "image/png": "[encoded data removed]",
      "text/plain": [
       "<Figure size 640x480 with 1 Axes>"
      ]
     },
     "metadata": {},
     "output_type": "display_data"
    }
   ],
   "source": [
    "plt.imshow(number[0])\n",
    "plt.title(\"label = {}\".format(label[0]))"
   ]
  },
  {
   "cell_type": "code",
   "execution_count": null,
   "id": "befcef5f",
   "metadata": {
    "papermill": {
     "duration": 0.008424,
     "end_time": "2023-03-03T01:19:01.827679",
     "exception": false,
     "start_time": "2023-03-03T01:19:01.819255",
     "status": "completed"
    },
    "tags": []
   },
   "outputs": [],
   "source": []
  },
  {
   "cell_type": "code",
   "execution_count": 8,
   "id": "5876e0ba",
   "metadata": {
    "execution": {
     "iopub.execute_input": "2023-03-03T01:19:01.847694Z",
     "iopub.status.busy": "2023-03-03T01:19:01.846518Z",
     "iopub.status.idle": "2023-03-03T01:19:01.854815Z",
     "shell.execute_reply": "2023-03-03T01:19:01.853770Z"
    },
    "papermill": {
     "duration": 0.020955,
     "end_time": "2023-03-03T01:19:01.857318",
     "exception": false,
     "start_time": "2023-03-03T01:19:01.836363",
     "status": "completed"
    },
    "tags": []
   },
   "outputs": [
    {
     "data": {
      "text/plain": [
       "0    1\n",
       "1    0\n",
       "2    1\n",
       "3    4\n",
       "4    0\n",
       "Name: label, dtype: int64"
      ]
     },
     "execution_count": 8,
     "metadata": {},
     "output_type": "execute_result"
    }
   ],
   "source": [
    "label.head()"
   ]
  },
  {
   "cell_type": "code",
   "execution_count": 9,
   "id": "42415c3f",
   "metadata": {
    "execution": {
     "iopub.execute_input": "2023-03-03T01:19:01.877188Z",
     "iopub.status.busy": "2023-03-03T01:19:01.876168Z",
     "iopub.status.idle": "2023-03-03T01:19:02.328382Z",
     "shell.execute_reply": "2023-03-03T01:19:02.327120Z"
    },
    "papermill": {
     "duration": 0.465143,
     "end_time": "2023-03-03T01:19:02.331253",
     "exception": false,
     "start_time": "2023-03-03T01:19:01.866110",
     "status": "completed"
    },
    "tags": []
   },
   "outputs": [],
   "source": [
    "x_train, y_train, x_target, y_target = train_test_split(number, label, test_size=0.2)\n"
   ]
  },
  {
   "cell_type": "code",
   "execution_count": 10,
   "id": "8724dca4",
   "metadata": {
    "execution": {
     "iopub.execute_input": "2023-03-03T01:19:02.350977Z",
     "iopub.status.busy": "2023-03-03T01:19:02.350571Z",
     "iopub.status.idle": "2023-03-03T01:19:02.358400Z",
     "shell.execute_reply": "2023-03-03T01:19:02.357469Z"
    },
    "papermill": {
     "duration": 0.020488,
     "end_time": "2023-03-03T01:19:02.360778",
     "exception": false,
     "start_time": "2023-03-03T01:19:02.340290",
     "status": "completed"
    },
    "tags": []
   },
   "outputs": [
    {
     "data": {
      "text/plain": [
       "(8400,)"
      ]
     },
     "execution_count": 10,
     "metadata": {},
     "output_type": "execute_result"
    }
   ],
   "source": [
    "y_target.shape"
   ]
  },
  {
   "cell_type": "code",
   "execution_count": 11,
   "id": "5718fefe",
   "metadata": {
    "execution": {
     "iopub.execute_input": "2023-03-03T01:19:02.380636Z",
     "iopub.status.busy": "2023-03-03T01:19:02.380176Z",
     "iopub.status.idle": "2023-03-03T01:19:02.704704Z",
     "shell.execute_reply": "2023-03-03T01:19:02.703178Z"
    },
    "papermill": {
     "duration": 0.339295,
     "end_time": "2023-03-03T01:19:02.709036",
     "exception": false,
     "start_time": "2023-03-03T01:19:02.369741",
     "status": "completed"
    },
    "tags": []
   },
   "outputs": [
    {
     "data": {
      "image/png": "[encoded data removed]",
      "text/plain": [
       "<Figure size 700x700 with 9 Axes>"
      ]
     },
     "metadata": {},
     "output_type": "display_data"
    }
   ],
   "source": [
    "plt.figure(figsize=(7, 7))\n",
    "for i in range(9):\n",
    "    plt.subplot(3, 3, i+1)\n",
    "    plt.imshow(number[i])\n",
    "    plt.axis('off')\n",
    "    plt.title(\"value = {}\".format(label[i]))"
   ]
  },
  {
   "cell_type": "code",
   "execution_count": 12,
   "id": "8569116d",
   "metadata": {
    "execution": {
     "iopub.execute_input": "2023-03-03T01:19:02.758304Z",
     "iopub.status.busy": "2023-03-03T01:19:02.757458Z",
     "iopub.status.idle": "2023-03-03T01:19:11.514601Z",
     "shell.execute_reply": "2023-03-03T01:19:11.513150Z"
    },
    "papermill": {
     "duration": 8.784726,
     "end_time": "2023-03-03T01:19:11.517553",
     "exception": false,
     "start_time": "2023-03-03T01:19:02.732827",
     "status": "completed"
    },
    "tags": []
   },
   "outputs": [],
   "source": [
    "from tensorflow import keras\n",
    "from keras.layers import Dense, Conv2D, MaxPooling2D, Flatten, Dropout\n",
    "from keras.optimizers import Adam\n",
    "from keras import Sequential"
   ]
  },
  {
   "cell_type": "code",
   "execution_count": 13,
   "id": "11ebee41",
   "metadata": {
    "execution": {
     "iopub.execute_input": "2023-03-03T01:19:11.539393Z",
     "iopub.status.busy": "2023-03-03T01:19:11.538253Z",
     "iopub.status.idle": "2023-03-03T01:19:11.827736Z",
     "shell.execute_reply": "2023-03-03T01:19:11.826708Z"
    },
    "papermill": {
     "duration": 0.303415,
     "end_time": "2023-03-03T01:19:11.830530",
     "exception": false,
     "start_time": "2023-03-03T01:19:11.527115",
     "status": "completed"
    },
    "tags": []
   },
   "outputs": [],
   "source": [
    "model = Sequential()\n",
    "\n",
    "model.add(Conv2D(32, kernel_size=(5, 5), padding='same', activation='relu', input_shape=(28, 28, 1)))\n",
    "model.add(Conv2D(32, kernel_size=(5, 5), padding='same', activation='relu'))\n",
    "model.add(MaxPooling2D(pool_size=(2, 2)))\n",
    "model.add(Dropout(0.25))\n",
    "\n",
    "model.add(Conv2D(64, kernel_size=(5, 5), padding='same', activation='relu'))\n",
    "model.add(Conv2D(64, kernel_size=(5, 5), padding='same', activation='relu'))\n",
    "model.add(MaxPooling2D(pool_size=(2, 2), strides=(2, 2)))\n",
    "model.add(Dropout(0.25))\n",
    "\n",
    "model.add(Flatten())\n",
    "model.add(Dense(256, activation='relu'))\n",
    "model.add(Dropout(0.5))\n",
    "model.add(Dense(10, activation='softmax'))"
   ]
  },
  {
   "cell_type": "code",
   "execution_count": 14,
   "id": "084ab857",
   "metadata": {
    "execution": {
     "iopub.execute_input": "2023-03-03T01:19:11.852250Z",
     "iopub.status.busy": "2023-03-03T01:19:11.851135Z",
     "iopub.status.idle": "2023-03-03T01:19:11.897539Z",
     "shell.execute_reply": "2023-03-03T01:19:11.896180Z"
    },
    "papermill": {
     "duration": 0.062747,
     "end_time": "2023-03-03T01:19:11.902731",
     "exception": false,
     "start_time": "2023-03-03T01:19:11.839984",
     "status": "completed"
    },
    "tags": []
   },
   "outputs": [
    {
     "name": "stdout",
     "output_type": "stream",
     "text": [
      "Model: \"sequential\"\n",
      "_________________________________________________________________\n",
      " Layer (type)                Output Shape              Param #   \n",
      "=================================================================\n",
      " conv2d (Conv2D)             (None, 28, 28, 32)        832       \n",
      "                                                                 \n",
      " conv2d_1 (Conv2D)           (None, 28, 28, 32)        25632     \n",
      "                                                                 \n",
      " max_pooling2d (MaxPooling2D  (None, 14, 14, 32)       0         \n",
      " )                                                               \n",
      "                                                                 \n",
      " dropout (Dropout)           (None, 14, 14, 32)        0         \n",
      "                                                                 \n",
      " conv2d_2 (Conv2D)           (None, 14, 14, 64)        51264     \n",
      "                                                                 \n",
      " conv2d_3 (Conv2D)           (None, 14, 14, 64)        102464    \n",
      "                                                                 \n",
      " max_pooling2d_1 (MaxPooling  (None, 7, 7, 64)         0         \n",
      " 2D)                                                             \n",
      "                                                                 \n",
      " dropout_1 (Dropout)         (None, 7, 7, 64)          0         \n",
      "                                                                 \n",
      " flatten (Flatten)           (None, 3136)              0         \n",
      "                                                                 \n",
      " dense (Dense)               (None, 256)               803072    \n",
      "                                                                 \n",
      " dropout_2 (Dropout)         (None, 256)               0         \n",
      "                                                                 \n",
      " dense_1 (Dense)             (None, 10)                2570      \n",
      "                                                                 \n",
      "=================================================================\n",
      "Total params: 985,834\n",
      "Trainable params: 985,834\n",
      "Non-trainable params: 0\n",
      "_________________________________________________________________\n"
     ]
    }
   ],
   "source": [
    "model.summary()"
   ]
  },
  {
   "cell_type": "code",
   "execution_count": 15,
   "id": "42ffdc9e",
   "metadata": {
    "execution": {
     "iopub.execute_input": "2023-03-03T01:19:11.928739Z",
     "iopub.status.busy": "2023-03-03T01:19:11.928285Z",
     "iopub.status.idle": "2023-03-03T01:19:11.934195Z",
     "shell.execute_reply": "2023-03-03T01:19:11.933016Z"
    },
    "papermill": {
     "duration": 0.022585,
     "end_time": "2023-03-03T01:19:11.937034",
     "exception": false,
     "start_time": "2023-03-03T01:19:11.914449",
     "status": "completed"
    },
    "tags": []
   },
   "outputs": [],
   "source": [
    "optimizer = Adam(learning_rate=0.001, beta_1=0.9, beta_2=0.999, amsgrad=False)"
   ]
  },
  {
   "cell_type": "code",
   "execution_count": 16,
   "id": "85fe00f3",
   "metadata": {
    "execution": {
     "iopub.execute_input": "2023-03-03T01:19:11.962937Z",
     "iopub.status.busy": "2023-03-03T01:19:11.962047Z",
     "iopub.status.idle": "2023-03-03T01:19:11.982190Z",
     "shell.execute_reply": "2023-03-03T01:19:11.980977Z"
    },
    "papermill": {
     "duration": 0.036292,
     "end_time": "2023-03-03T01:19:11.985077",
     "exception": false,
     "start_time": "2023-03-03T01:19:11.948785",
     "status": "completed"
    },
    "tags": []
   },
   "outputs": [],
   "source": [
    "model.compile(optimizer=optimizer, loss='categorical_crossentropy', metrics=['accuracy'])"
   ]
  },
  {
   "cell_type": "code",
   "execution_count": 17,
   "id": "9fb212fd",
   "metadata": {
    "execution": {
     "iopub.execute_input": "2023-03-03T01:19:12.010100Z",
     "iopub.status.busy": "2023-03-03T01:19:12.009693Z",
     "iopub.status.idle": "2023-03-03T01:19:12.016560Z",
     "shell.execute_reply": "2023-03-03T01:19:12.015522Z"
    },
    "papermill": {
     "duration": 0.02255,
     "end_time": "2023-03-03T01:19:12.019178",
     "exception": false,
     "start_time": "2023-03-03T01:19:11.996628",
     "status": "completed"
    },
    "tags": []
   },
   "outputs": [],
   "source": [
    "from tensorflow import keras\n",
    "from keras.utils import to_categorical\n",
    "\n",
    "x_target_encoding = to_categorical(x_target, num_classes=10)"
   ]
  },
  {
   "cell_type": "code",
   "execution_count": 18,
   "id": "a747bf4c",
   "metadata": {
    "execution": {
     "iopub.execute_input": "2023-03-03T01:19:12.044302Z",
     "iopub.status.busy": "2023-03-03T01:19:12.043834Z",
     "iopub.status.idle": "2023-03-03T01:19:12.050732Z",
     "shell.execute_reply": "2023-03-03T01:19:12.049556Z"
    },
    "papermill": {
     "duration": 0.022233,
     "end_time": "2023-03-03T01:19:12.053192",
     "exception": false,
     "start_time": "2023-03-03T01:19:12.030959",
     "status": "completed"
    },
    "tags": []
   },
   "outputs": [
    {
     "data": {
      "text/plain": [
       "(33600,)"
      ]
     },
     "execution_count": 18,
     "metadata": {},
     "output_type": "execute_result"
    }
   ],
   "source": [
    "x_target.shape"
   ]
  },
  {
   "cell_type": "code",
   "execution_count": 19,
   "id": "5bbf99ee",
   "metadata": {
    "execution": {
     "iopub.execute_input": "2023-03-03T01:19:12.079067Z",
     "iopub.status.busy": "2023-03-03T01:19:12.078657Z",
     "iopub.status.idle": "2023-03-03T01:19:12.084537Z",
     "shell.execute_reply": "2023-03-03T01:19:12.083315Z"
    },
    "papermill": {
     "duration": 0.021617,
     "end_time": "2023-03-03T01:19:12.086973",
     "exception": false,
     "start_time": "2023-03-03T01:19:12.065356",
     "status": "completed"
    },
    "tags": []
   },
   "outputs": [],
   "source": [
    "y_target_encoding = to_categorical(y_target, num_classes=10)"
   ]
  },
  {
   "cell_type": "code",
   "execution_count": 20,
   "id": "cc81f037",
   "metadata": {
    "execution": {
     "iopub.execute_input": "2023-03-03T01:19:12.111945Z",
     "iopub.status.busy": "2023-03-03T01:19:12.111497Z",
     "iopub.status.idle": "2023-03-03T01:19:12.225932Z",
     "shell.execute_reply": "2023-03-03T01:19:12.224770Z"
    },
    "papermill": {
     "duration": 0.130435,
     "end_time": "2023-03-03T01:19:12.228945",
     "exception": false,
     "start_time": "2023-03-03T01:19:12.098510",
     "status": "completed"
    },
    "tags": []
   },
   "outputs": [],
   "source": [
    "x_train_real, val_train_real, x_target_real, val_target_real = train_test_split(x_train, x_target_encoding, test_size=0.1)"
   ]
  },
  {
   "cell_type": "code",
   "execution_count": 21,
   "id": "d6a3460b",
   "metadata": {
    "execution": {
     "iopub.execute_input": "2023-03-03T01:19:12.254113Z",
     "iopub.status.busy": "2023-03-03T01:19:12.253738Z",
     "iopub.status.idle": "2023-03-03T01:19:12.260381Z",
     "shell.execute_reply": "2023-03-03T01:19:12.259215Z"
    },
    "papermill": {
     "duration": 0.022145,
     "end_time": "2023-03-03T01:19:12.262877",
     "exception": false,
     "start_time": "2023-03-03T01:19:12.240732",
     "status": "completed"
    },
    "tags": []
   },
   "outputs": [
    {
     "data": {
      "text/plain": [
       "(30240, 10)"
      ]
     },
     "execution_count": 21,
     "metadata": {},
     "output_type": "execute_result"
    }
   ],
   "source": [
    "x_target_real.shape"
   ]
  },
  {
   "cell_type": "code",
   "execution_count": 22,
   "id": "f12dffae",
   "metadata": {
    "execution": {
     "iopub.execute_input": "2023-03-03T01:19:12.288578Z",
     "iopub.status.busy": "2023-03-03T01:19:12.288136Z",
     "iopub.status.idle": "2023-03-03T01:36:19.910935Z",
     "shell.execute_reply": "2023-03-03T01:36:19.909653Z"
    },
    "papermill": {
     "duration": 1027.649738,
     "end_time": "2023-03-03T01:36:19.924659",
     "exception": false,
     "start_time": "2023-03-03T01:19:12.274921",
     "status": "completed"
    },
    "tags": []
   },
   "outputs": [
    {
     "name": "stdout",
     "output_type": "stream",
     "text": [
      "Epoch 1/50\n",
      "352/352 - 172s - loss: 0.5558 - accuracy: 0.8565 - val_loss: 0.0727 - val_accuracy: 0.9771 - 172s/epoch - 489ms/step\n",
      "Epoch 2/50\n",
      "352/352 - 171s - loss: 0.1103 - accuracy: 0.9670 - val_loss: 0.0632 - val_accuracy: 0.9810 - 171s/epoch - 485ms/step\n",
      "Epoch 3/50\n",
      "352/352 - 171s - loss: 0.0845 - accuracy: 0.9751 - val_loss: 0.0429 - val_accuracy: 0.9866 - 171s/epoch - 486ms/step\n",
      "Epoch 4/50\n",
      "352/352 - 171s - loss: 0.0687 - accuracy: 0.9802 - val_loss: 0.0324 - val_accuracy: 0.9908 - 171s/epoch - 487ms/step\n",
      "Epoch 5/50\n",
      "352/352 - 171s - loss: 0.0638 - accuracy: 0.9815 - val_loss: 0.0535 - val_accuracy: 0.9860 - 171s/epoch - 486ms/step\n",
      "Epoch 6/50\n",
      "352/352 - 171s - loss: 0.0597 - accuracy: 0.9817 - val_loss: 0.0426 - val_accuracy: 0.9851 - 171s/epoch - 485ms/step\n"
     ]
    }
   ],
   "source": [
    "early_stopping_cb = keras.callbacks.EarlyStopping(patience=2, restore_best_weights=True)\n",
    "\n",
    "history = model.fit(x_train_real, x_target_real, validation_data=(val_train_real, val_target_real), batch_size=86, epochs=50, verbose=2, callbacks=[early_stopping_cb])\n"
   ]
  },
  {
   "cell_type": "code",
   "execution_count": 23,
   "id": "c8093350",
   "metadata": {
    "execution": {
     "iopub.execute_input": "2023-03-03T01:36:19.951701Z",
     "iopub.status.busy": "2023-03-03T01:36:19.950949Z",
     "iopub.status.idle": "2023-03-03T01:36:20.156677Z",
     "shell.execute_reply": "2023-03-03T01:36:20.155491Z"
    },
    "papermill": {
     "duration": 0.222292,
     "end_time": "2023-03-03T01:36:20.159413",
     "exception": false,
     "start_time": "2023-03-03T01:36:19.937121",
     "status": "completed"
    },
    "tags": []
   },
   "outputs": [
    {
     "data": {
      "image/png": "[encoded data removed]",
      "text/plain": [
       "<Figure size 640x480 with 1 Axes>"
      ]
     },
     "metadata": {},
     "output_type": "display_data"
    }
   ],
   "source": [
    "plt.plot(history.history['loss'])\n",
    "plt.plot(history.history['val_loss'])\n",
    "plt.xlabel(\"epoch\")\n",
    "plt.ylabel(\"loss\")\n",
    "plt.show()"
   ]
  },
  {
   "cell_type": "code",
   "execution_count": 24,
   "id": "3126553a",
   "metadata": {
    "execution": {
     "iopub.execute_input": "2023-03-03T01:36:20.187603Z",
     "iopub.status.busy": "2023-03-03T01:36:20.186949Z",
     "iopub.status.idle": "2023-03-03T01:36:31.251546Z",
     "shell.execute_reply": "2023-03-03T01:36:31.250566Z"
    },
    "papermill": {
     "duration": 11.081407,
     "end_time": "2023-03-03T01:36:31.254123",
     "exception": false,
     "start_time": "2023-03-03T01:36:20.172716",
     "status": "completed"
    },
    "tags": []
   },
   "outputs": [
    {
     "name": "stdout",
     "output_type": "stream",
     "text": [
      "263/263 [==============================] - 11s 41ms/step\n"
     ]
    }
   ],
   "source": [
    "y_pred = model.predict(y_train)"
   ]
  },
  {
   "cell_type": "code",
   "execution_count": 25,
   "id": "4a5ba136",
   "metadata": {
    "execution": {
     "iopub.execute_input": "2023-03-03T01:36:31.300095Z",
     "iopub.status.busy": "2023-03-03T01:36:31.299479Z",
     "iopub.status.idle": "2023-03-03T01:36:31.320808Z",
     "shell.execute_reply": "2023-03-03T01:36:31.319643Z"
    },
    "papermill": {
     "duration": 0.047082,
     "end_time": "2023-03-03T01:36:31.323457",
     "exception": false,
     "start_time": "2023-03-03T01:36:31.276375",
     "status": "completed"
    },
    "tags": []
   },
   "outputs": [],
   "source": [
    "y_predict = [np.argmax(y_pred[i]) for i in range(len(y_pred))]"
   ]
  },
  {
   "cell_type": "code",
   "execution_count": 26,
   "id": "f080a573",
   "metadata": {
    "execution": {
     "iopub.execute_input": "2023-03-03T01:36:31.368625Z",
     "iopub.status.busy": "2023-03-03T01:36:31.368176Z",
     "iopub.status.idle": "2023-03-03T01:36:31.373792Z",
     "shell.execute_reply": "2023-03-03T01:36:31.372630Z"
    },
    "papermill": {
     "duration": 0.031122,
     "end_time": "2023-03-03T01:36:31.376307",
     "exception": false,
     "start_time": "2023-03-03T01:36:31.345185",
     "status": "completed"
    },
    "tags": []
   },
   "outputs": [],
   "source": [
    "def find_maxvalue_index(list):\n",
    "    count = 0\n",
    "    for i in list:\n",
    "        if i != 0:\n",
    "            break\n",
    "        count += 1\n",
    "    return count"
   ]
  },
  {
   "cell_type": "code",
   "execution_count": 27,
   "id": "1a8e976a",
   "metadata": {
    "execution": {
     "iopub.execute_input": "2023-03-03T01:36:31.422126Z",
     "iopub.status.busy": "2023-03-03T01:36:31.421717Z",
     "iopub.status.idle": "2023-03-03T01:36:31.429315Z",
     "shell.execute_reply": "2023-03-03T01:36:31.428183Z"
    },
    "papermill": {
     "duration": 0.03401,
     "end_time": "2023-03-03T01:36:31.431875",
     "exception": false,
     "start_time": "2023-03-03T01:36:31.397865",
     "status": "completed"
    },
    "tags": []
   },
   "outputs": [
    {
     "data": {
      "text/plain": [
       "4"
      ]
     },
     "execution_count": 27,
     "metadata": {},
     "output_type": "execute_result"
    }
   ],
   "source": [
    "li = [0,0,0,0,1,0,0]\n",
    "find_maxvalue_index(li)"
   ]
  },
  {
   "cell_type": "code",
   "execution_count": 28,
   "id": "49afe51d",
   "metadata": {
    "execution": {
     "iopub.execute_input": "2023-03-03T01:36:31.477574Z",
     "iopub.status.busy": "2023-03-03T01:36:31.476983Z",
     "iopub.status.idle": "2023-03-03T01:36:31.908809Z",
     "shell.execute_reply": "2023-03-03T01:36:31.907620Z"
    },
    "papermill": {
     "duration": 0.457566,
     "end_time": "2023-03-03T01:36:31.911445",
     "exception": false,
     "start_time": "2023-03-03T01:36:31.453879",
     "status": "completed"
    },
    "tags": []
   },
   "outputs": [
    {
     "data": {
      "image/png": "[encoded data removed]",
      "text/plain": [
       "<Figure size 800x800 with 9 Axes>"
      ]
     },
     "metadata": {},
     "output_type": "display_data"
    }
   ],
   "source": [
    "plt.figure(figsize=(8, 8))\n",
    "for i in range(9):\n",
    "    plt.subplot(3, 3, i+1)\n",
    "    plt.imshow(y_train[i])\n",
    "    plt.axis('off')\n",
    "    plt.title(\"predict num = {} \\n actual num = {}\".format(y_predict[i], find_maxvalue_index(y_target_encoding[i])))\n",
    "    "
   ]
  },
  {
   "cell_type": "code",
   "execution_count": 29,
   "id": "4ffda482",
   "metadata": {
    "execution": {
     "iopub.execute_input": "2023-03-03T01:36:31.957500Z",
     "iopub.status.busy": "2023-03-03T01:36:31.957100Z",
     "iopub.status.idle": "2023-03-03T01:36:31.966346Z",
     "shell.execute_reply": "2023-03-03T01:36:31.965178Z"
    },
    "papermill": {
     "duration": 0.034949,
     "end_time": "2023-03-03T01:36:31.968590",
     "exception": false,
     "start_time": "2023-03-03T01:36:31.933641",
     "status": "completed"
    },
    "tags": []
   },
   "outputs": [
    {
     "data": {
      "text/plain": [
       "0.9883333333333333"
      ]
     },
     "execution_count": 29,
     "metadata": {},
     "output_type": "execute_result"
    }
   ],
   "source": [
    "from sklearn.metrics import accuracy_score\n",
    "accuracy_score(y_target, y_predict)"
   ]
  },
  {
   "cell_type": "code",
   "execution_count": 30,
   "id": "a8daaf0e",
   "metadata": {
    "execution": {
     "iopub.execute_input": "2023-03-03T01:36:32.015710Z",
     "iopub.status.busy": "2023-03-03T01:36:32.014592Z",
     "iopub.status.idle": "2023-03-03T01:36:32.057206Z",
     "shell.execute_reply": "2023-03-03T01:36:32.056064Z"
    },
    "papermill": {
     "duration": 0.069117,
     "end_time": "2023-03-03T01:36:32.059780",
     "exception": false,
     "start_time": "2023-03-03T01:36:31.990663",
     "status": "completed"
    },
    "tags": []
   },
   "outputs": [
    {
     "data": {
      "text/html": [
       "<div>\n",
       "<style scoped>\n",
       "    .dataframe tbody tr th:only-of-type {\n",
       "        vertical-align: middle;\n",
       "    }\n",
       "\n",
       "    .dataframe tbody tr th {\n",
       "        vertical-align: top;\n",
       "    }\n",
       "\n",
       "    .dataframe thead th {\n",
       "        text-align: right;\n",
       "    }\n",
       "</style>\n",
       "<table border=\"1\" class=\"dataframe\">\n",
       "  <thead>\n",
       "    <tr style=\"text-align: right;\">\n",
       "      <th></th>\n",
       "      <th>ImageId</th>\n",
       "      <th>Label</th>\n",
       "    </tr>\n",
       "  </thead>\n",
       "  <tbody>\n",
       "    <tr>\n",
       "      <th>0</th>\n",
       "      <td>1</td>\n",
       "      <td>0</td>\n",
       "    </tr>\n",
       "    <tr>\n",
       "      <th>1</th>\n",
       "      <td>2</td>\n",
       "      <td>0</td>\n",
       "    </tr>\n",
       "    <tr>\n",
       "      <th>2</th>\n",
       "      <td>3</td>\n",
       "      <td>0</td>\n",
       "    </tr>\n",
       "    <tr>\n",
       "      <th>3</th>\n",
       "      <td>4</td>\n",
       "      <td>0</td>\n",
       "    </tr>\n",
       "    <tr>\n",
       "      <th>4</th>\n",
       "      <td>5</td>\n",
       "      <td>0</td>\n",
       "    </tr>\n",
       "  </tbody>\n",
       "</table>\n",
       "</div>"
      ],
      "text/plain": [
       "   ImageId  Label\n",
       "0        1      0\n",
       "1        2      0\n",
       "2        3      0\n",
       "3        4      0\n",
       "4        5      0"
      ]
     },
     "execution_count": 30,
     "metadata": {},
     "output_type": "execute_result"
    }
   ],
   "source": [
    "sample_sub = pd.read_csv(\"/kaggle/input/digit-recognizer/sample_submission.csv\")\n",
    "sample_sub.head()"
   ]
  },
  {
   "cell_type": "code",
   "execution_count": 31,
   "id": "b3c339a6",
   "metadata": {
    "execution": {
     "iopub.execute_input": "2023-03-03T01:36:32.107530Z",
     "iopub.status.busy": "2023-03-03T01:36:32.106424Z",
     "iopub.status.idle": "2023-03-03T01:37:13.537302Z",
     "shell.execute_reply": "2023-03-03T01:37:13.536050Z"
    },
    "papermill": {
     "duration": 41.457738,
     "end_time": "2023-03-03T01:37:13.540256",
     "exception": false,
     "start_time": "2023-03-03T01:36:32.082518",
     "status": "completed"
    },
    "tags": []
   },
   "outputs": [
    {
     "name": "stdout",
     "output_type": "stream",
     "text": [
      "875/875 [==============================] - 35s 40ms/step\n"
     ]
    }
   ],
   "source": [
    "test_data = np.array(test_data)\n",
    "test_data = test_data.reshape(len(test_data),28,28,1)\n",
    "\n",
    "result = model.predict(test_data)\n",
    "\n",
    "predicted_val=[]\n",
    "for i in range(len(result)):\n",
    "    predicted_val.append(np.argmax(result[i]))"
   ]
  },
  {
   "cell_type": "code",
   "execution_count": 32,
   "id": "2ef9515c",
   "metadata": {
    "execution": {
     "iopub.execute_input": "2023-03-03T01:37:13.642081Z",
     "iopub.status.busy": "2023-03-03T01:37:13.641655Z",
     "iopub.status.idle": "2023-03-03T01:37:13.689608Z",
     "shell.execute_reply": "2023-03-03T01:37:13.688318Z"
    },
    "papermill": {
     "duration": 0.102595,
     "end_time": "2023-03-03T01:37:13.692894",
     "exception": false,
     "start_time": "2023-03-03T01:37:13.590299",
     "status": "completed"
    },
    "tags": []
   },
   "outputs": [],
   "source": [
    "submission = pd.DataFrame()\n",
    "\n",
    "imageid = []\n",
    "for i in range(1, len(predicted_val)+1):\n",
    "    imageid.append(i)\n",
    "\n",
    "submission['imageid']=imageid\n",
    "submission['Label']=predicted_val"
   ]
  },
  {
   "cell_type": "code",
   "execution_count": 33,
   "id": "a4975b9a",
   "metadata": {
    "execution": {
     "iopub.execute_input": "2023-03-03T01:37:13.815186Z",
     "iopub.status.busy": "2023-03-03T01:37:13.814763Z",
     "iopub.status.idle": "2023-03-03T01:37:13.824828Z",
     "shell.execute_reply": "2023-03-03T01:37:13.823711Z"
    },
    "papermill": {
     "duration": 0.065128,
     "end_time": "2023-03-03T01:37:13.827777",
     "exception": false,
     "start_time": "2023-03-03T01:37:13.762649",
     "status": "completed"
    },
    "tags": []
   },
   "outputs": [
    {
     "data": {
      "text/html": [
       "<div>\n",
       "<style scoped>\n",
       "    .dataframe tbody tr th:only-of-type {\n",
       "        vertical-align: middle;\n",
       "    }\n",
       "\n",
       "    .dataframe tbody tr th {\n",
       "        vertical-align: top;\n",
       "    }\n",
       "\n",
       "    .dataframe thead th {\n",
       "        text-align: right;\n",
       "    }\n",
       "</style>\n",
       "<table border=\"1\" class=\"dataframe\">\n",
       "  <thead>\n",
       "    <tr style=\"text-align: right;\">\n",
       "      <th></th>\n",
       "      <th>imageid</th>\n",
       "      <th>Label</th>\n",
       "    </tr>\n",
       "  </thead>\n",
       "  <tbody>\n",
       "    <tr>\n",
       "      <th>0</th>\n",
       "      <td>1</td>\n",
       "      <td>2</td>\n",
       "    </tr>\n",
       "    <tr>\n",
       "      <th>1</th>\n",
       "      <td>2</td>\n",
       "      <td>0</td>\n",
       "    </tr>\n",
       "    <tr>\n",
       "      <th>2</th>\n",
       "      <td>3</td>\n",
       "      <td>9</td>\n",
       "    </tr>\n",
       "    <tr>\n",
       "      <th>3</th>\n",
       "      <td>4</td>\n",
       "      <td>0</td>\n",
       "    </tr>\n",
       "    <tr>\n",
       "      <th>4</th>\n",
       "      <td>5</td>\n",
       "      <td>3</td>\n",
       "    </tr>\n",
       "  </tbody>\n",
       "</table>\n",
       "</div>"
      ],
      "text/plain": [
       "   imageid  Label\n",
       "0        1      2\n",
       "1        2      0\n",
       "2        3      9\n",
       "3        4      0\n",
       "4        5      3"
      ]
     },
     "execution_count": 33,
     "metadata": {},
     "output_type": "execute_result"
    }
   ],
   "source": [
    "submission.head()"
   ]
  },
  {
   "cell_type": "code",
   "execution_count": 34,
   "id": "82d0f974",
   "metadata": {
    "execution": {
     "iopub.execute_input": "2023-03-03T01:37:13.930262Z",
     "iopub.status.busy": "2023-03-03T01:37:13.929373Z",
     "iopub.status.idle": "2023-03-03T01:37:13.970367Z",
     "shell.execute_reply": "2023-03-03T01:37:13.969304Z"
    },
    "papermill": {
     "duration": 0.095409,
     "end_time": "2023-03-03T01:37:13.973142",
     "exception": false,
     "start_time": "2023-03-03T01:37:13.877733",
     "status": "completed"
    },
    "tags": []
   },
   "outputs": [],
   "source": [
    "submission.to_csv(\"submission.csv\", index=False)"
   ]
  }
 ],
 "metadata": {
  "kernelspec": {
   "display_name": "Python 3",
   "language": "python",
   "name": "python3"
  },
  "language_info": {
   "codemirror_mode": {
    "name": "ipython",
    "version": 3
   },
   "file_extension": ".py",
   "mimetype": "text/x-python",
   "name": "python",
   "nbconvert_exporter": "python",
   "pygments_lexer": "ipython3",
   "version": "3.7.12"
  },
  "papermill": {
   "default_parameters": {},
   "duration": 1113.354026,
   "end_time": "2023-03-03T01:37:17.234881",
   "environment_variables": {},
   "exception": null,
   "input_path": "__notebook__.ipynb",
   "output_path": "__notebook__.ipynb",
   "parameters": {},
   "start_time": "2023-03-03T01:18:43.880855",
   "version": "2.4.0"
  }
 },
 "nbformat": 4,
 "nbformat_minor": 5
}
