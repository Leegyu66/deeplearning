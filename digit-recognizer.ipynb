{
 "cells": [
  {
   "cell_type": "code",
   "execution_count": 1,
   "id": "24d5e421",
   "metadata": {
    "_cell_guid": "b1076dfc-b9ad-4769-8c92-a6c4dae69d19",
    "_uuid": "8f2839f25d086af736a60e9eeb907d3b93b6e0e5",
    "execution": {
     "iopub.execute_input": "2023-02-15T08:56:58.907736Z",
     "iopub.status.busy": "2023-02-15T08:56:58.906676Z",
     "iopub.status.idle": "2023-02-15T08:56:58.928793Z",
     "shell.execute_reply": "2023-02-15T08:56:58.927406Z"
    },
    "papermill": {
     "duration": 0.036665,
     "end_time": "2023-02-15T08:56:58.932662",
     "exception": false,
     "start_time": "2023-02-15T08:56:58.895997",
     "status": "completed"
    },
    "tags": []
   },
   "outputs": [
    {
     "name": "stdout",
     "output_type": "stream",
     "text": [
      "/kaggle/input/digit-recognizer/sample_submission.csv\n",
      "/kaggle/input/digit-recognizer/train.csv\n",
      "/kaggle/input/digit-recognizer/test.csv\n"
     ]
    }
   ],
   "source": [
    "# This Python 3 environment comes with many helpful analytics libraries installed\n",
    "# It is defined by the kaggle/python Docker image: https://github.com/kaggle/docker-python\n",
    "# For example, here's several helpful packages to load\n",
    "\n",
    "import numpy as np # linear algebra\n",
    "import pandas as pd # data processing, CSV file I/O (e.g. pd.read_csv)\n",
    "\n",
    "# Input data files are available in the read-only \"../input/\" directory\n",
    "# For example, running this (by clicking run or pressing Shift+Enter) will list all files under the input directory\n",
    "\n",
    "import os\n",
    "for dirname, _, filenames in os.walk('/kaggle/input'):\n",
    "    for filename in filenames:\n",
    "        print(os.path.join(dirname, filename))\n",
    "\n",
    "# You can write up to 20GB to the current directory (/kaggle/working/) that gets preserved as output when you create a version using \"Save & Run All\" \n",
    "# You can also write temporary files to /kaggle/temp/, but they won't be saved outside of the current session"
   ]
  },
  {
   "cell_type": "code",
   "execution_count": 2,
   "id": "3fe4fe5a",
   "metadata": {
    "execution": {
     "iopub.execute_input": "2023-02-15T08:56:58.950881Z",
     "iopub.status.busy": "2023-02-15T08:56:58.950078Z",
     "iopub.status.idle": "2023-02-15T08:57:07.449194Z",
     "shell.execute_reply": "2023-02-15T08:57:07.447967Z"
    },
    "papermill": {
     "duration": 8.510993,
     "end_time": "2023-02-15T08:57:07.452345",
     "exception": false,
     "start_time": "2023-02-15T08:56:58.941352",
     "status": "completed"
    },
    "tags": []
   },
   "outputs": [],
   "source": [
    "import pandas as pd\n",
    "import matplotlib.pyplot as plt\n",
    "%matplotlib inline\n",
    "from tensorflow import keras\n",
    "from sklearn.model_selection import train_test_split\n",
    "from keras.utils.np_utils import to_categorical\n",
    "from keras.models import Sequential\n",
    "from keras.layers import Dense, Dropout, Flatten, Conv2D, MaxPool2D\n",
    "from tensorflow.keras.optimizers import RMSprop\n",
    "from keras.preprocessing.image import ImageDataGenerator\n",
    "from keras.callbacks import ReduceLROnPlateau, CSVLogger, ModelCheckpoint, EarlyStopping"
   ]
  },
  {
   "cell_type": "code",
   "execution_count": 3,
   "id": "fd2ba883",
   "metadata": {
    "execution": {
     "iopub.execute_input": "2023-02-15T08:57:07.470030Z",
     "iopub.status.busy": "2023-02-15T08:57:07.469273Z",
     "iopub.status.idle": "2023-02-15T08:57:14.799400Z",
     "shell.execute_reply": "2023-02-15T08:57:14.798139Z"
    },
    "papermill": {
     "duration": 7.342156,
     "end_time": "2023-02-15T08:57:14.802261",
     "exception": false,
     "start_time": "2023-02-15T08:57:07.460105",
     "status": "completed"
    },
    "tags": []
   },
   "outputs": [],
   "source": [
    "train = pd.read_csv(\"../input/digit-recognizer/train.csv\")\n",
    "test = pd.read_csv(\"../input/digit-recognizer/test.csv\")"
   ]
  },
  {
   "cell_type": "code",
   "execution_count": 4,
   "id": "b1b78150",
   "metadata": {
    "execution": {
     "iopub.execute_input": "2023-02-15T08:57:14.819468Z",
     "iopub.status.busy": "2023-02-15T08:57:14.819024Z",
     "iopub.status.idle": "2023-02-15T08:57:14.824894Z",
     "shell.execute_reply": "2023-02-15T08:57:14.823618Z"
    },
    "papermill": {
     "duration": 0.019099,
     "end_time": "2023-02-15T08:57:14.829005",
     "exception": false,
     "start_time": "2023-02-15T08:57:14.809906",
     "status": "completed"
    },
    "tags": []
   },
   "outputs": [
    {
     "name": "stdout",
     "output_type": "stream",
     "text": [
      "(42000, 785)\n",
      "(28000, 784)\n"
     ]
    }
   ],
   "source": [
    "print(train.shape)\n",
    "print(test.shape)"
   ]
  },
  {
   "cell_type": "code",
   "execution_count": 5,
   "id": "f080ac87",
   "metadata": {
    "execution": {
     "iopub.execute_input": "2023-02-15T08:57:14.847438Z",
     "iopub.status.busy": "2023-02-15T08:57:14.846116Z",
     "iopub.status.idle": "2023-02-15T08:57:14.971492Z",
     "shell.execute_reply": "2023-02-15T08:57:14.970202Z"
    },
    "papermill": {
     "duration": 0.136809,
     "end_time": "2023-02-15T08:57:14.974239",
     "exception": false,
     "start_time": "2023-02-15T08:57:14.837430",
     "status": "completed"
    },
    "tags": []
   },
   "outputs": [],
   "source": [
    "y = train['label']\n",
    "x = train.drop(labels=['label'], axis=1)"
   ]
  },
  {
   "cell_type": "code",
   "execution_count": 6,
   "id": "0d48c69a",
   "metadata": {
    "execution": {
     "iopub.execute_input": "2023-02-15T08:57:14.991990Z",
     "iopub.status.busy": "2023-02-15T08:57:14.991584Z",
     "iopub.status.idle": "2023-02-15T08:57:14.997377Z",
     "shell.execute_reply": "2023-02-15T08:57:14.996218Z"
    },
    "papermill": {
     "duration": 0.017394,
     "end_time": "2023-02-15T08:57:14.999945",
     "exception": false,
     "start_time": "2023-02-15T08:57:14.982551",
     "status": "completed"
    },
    "tags": []
   },
   "outputs": [],
   "source": [
    "x = x.values.reshape(-1, 28, 28, 1)\n",
    "# y = to_categorical(y, 10) # num_classes는 class갯수인가보다\n",
    "test = test.values.reshape(-1, 28, 28, 1)"
   ]
  },
  {
   "cell_type": "code",
   "execution_count": 7,
   "id": "d9501632",
   "metadata": {
    "execution": {
     "iopub.execute_input": "2023-02-15T08:57:15.017807Z",
     "iopub.status.busy": "2023-02-15T08:57:15.017410Z",
     "iopub.status.idle": "2023-02-15T08:57:15.815283Z",
     "shell.execute_reply": "2023-02-15T08:57:15.814088Z"
    },
    "papermill": {
     "duration": 0.810188,
     "end_time": "2023-02-15T08:57:15.818012",
     "exception": false,
     "start_time": "2023-02-15T08:57:15.007824",
     "status": "completed"
    },
    "tags": []
   },
   "outputs": [
    {
     "data": {
      "image/png": "[encoded data removed]",
      "text/plain": [
       "<Figure size 720x720 with 10 Axes>"
      ]
     },
     "metadata": {
      "needs_background": "light"
     },
     "output_type": "display_data"
    }
   ],
   "source": [
    "fig, axs = plt.subplots(1, 10, figsize=(10, 10))\n",
    "for i in range(10):\n",
    "    axs[i].imshow(test[i])\n",
    "plt.show()"
   ]
  },
  {
   "cell_type": "code",
   "execution_count": 8,
   "id": "cf7182af",
   "metadata": {
    "execution": {
     "iopub.execute_input": "2023-02-15T08:57:15.837277Z",
     "iopub.status.busy": "2023-02-15T08:57:15.836888Z",
     "iopub.status.idle": "2023-02-15T08:57:16.291949Z",
     "shell.execute_reply": "2023-02-15T08:57:16.290768Z"
    },
    "papermill": {
     "duration": 0.46727,
     "end_time": "2023-02-15T08:57:16.294831",
     "exception": false,
     "start_time": "2023-02-15T08:57:15.827561",
     "status": "completed"
    },
    "tags": []
   },
   "outputs": [],
   "source": [
    "train_input, test_input, train_target, test_target = train_test_split(x, y, test_size=0.4, shuffle=True)\n"
   ]
  },
  {
   "cell_type": "code",
   "execution_count": 9,
   "id": "46684d58",
   "metadata": {
    "execution": {
     "iopub.execute_input": "2023-02-15T08:57:16.312619Z",
     "iopub.status.busy": "2023-02-15T08:57:16.312196Z",
     "iopub.status.idle": "2023-02-15T08:57:16.319206Z",
     "shell.execute_reply": "2023-02-15T08:57:16.317598Z"
    },
    "papermill": {
     "duration": 0.019131,
     "end_time": "2023-02-15T08:57:16.321946",
     "exception": false,
     "start_time": "2023-02-15T08:57:16.302815",
     "status": "completed"
    },
    "tags": []
   },
   "outputs": [
    {
     "name": "stdout",
     "output_type": "stream",
     "text": [
      "(25200, 28, 28, 1)\n",
      "(16800, 28, 28, 1)\n",
      "(25200,)\n",
      "(16800,)\n"
     ]
    }
   ],
   "source": [
    "print(train_input.shape)\n",
    "print(test_input.shape)\n",
    "print(train_target.shape)\n",
    "print(test_target.shape)"
   ]
  },
  {
   "cell_type": "code",
   "execution_count": 10,
   "id": "c2800596",
   "metadata": {
    "execution": {
     "iopub.execute_input": "2023-02-15T08:57:16.340169Z",
     "iopub.status.busy": "2023-02-15T08:57:16.339166Z",
     "iopub.status.idle": "2023-02-15T08:57:16.412596Z",
     "shell.execute_reply": "2023-02-15T08:57:16.411395Z"
    },
    "papermill": {
     "duration": 0.085755,
     "end_time": "2023-02-15T08:57:16.415623",
     "exception": false,
     "start_time": "2023-02-15T08:57:16.329868",
     "status": "completed"
    },
    "tags": []
   },
   "outputs": [],
   "source": [
    "train_input, val_input, train_target, val_target = train_test_split(train_input, train_target, test_size=0.1, shuffle=True)"
   ]
  },
  {
   "cell_type": "code",
   "execution_count": 11,
   "id": "2bc9673d",
   "metadata": {
    "execution": {
     "iopub.execute_input": "2023-02-15T08:57:16.437671Z",
     "iopub.status.busy": "2023-02-15T08:57:16.433378Z",
     "iopub.status.idle": "2023-02-15T08:57:16.446681Z",
     "shell.execute_reply": "2023-02-15T08:57:16.444569Z"
    },
    "papermill": {
     "duration": 0.025853,
     "end_time": "2023-02-15T08:57:16.449418",
     "exception": false,
     "start_time": "2023-02-15T08:57:16.423565",
     "status": "completed"
    },
    "tags": []
   },
   "outputs": [
    {
     "name": "stdout",
     "output_type": "stream",
     "text": [
      "32025    9\n",
      "34198    6\n",
      "21169    1\n",
      "11054    8\n",
      "22951    8\n",
      "Name: label, dtype: int64\n"
     ]
    }
   ],
   "source": [
    "print(train_target[:5])"
   ]
  },
  {
   "cell_type": "code",
   "execution_count": 12,
   "id": "602fe65f",
   "metadata": {
    "execution": {
     "iopub.execute_input": "2023-02-15T08:57:16.467196Z",
     "iopub.status.busy": "2023-02-15T08:57:16.466776Z",
     "iopub.status.idle": "2023-02-15T08:57:16.473440Z",
     "shell.execute_reply": "2023-02-15T08:57:16.472106Z"
    },
    "papermill": {
     "duration": 0.018908,
     "end_time": "2023-02-15T08:57:16.476295",
     "exception": false,
     "start_time": "2023-02-15T08:57:16.457387",
     "status": "completed"
    },
    "tags": []
   },
   "outputs": [
    {
     "name": "stdout",
     "output_type": "stream",
     "text": [
      "(22680, 28, 28, 1)\n"
     ]
    }
   ],
   "source": [
    "print(train_input.shape)"
   ]
  },
  {
   "cell_type": "code",
   "execution_count": 13,
   "id": "cc4dc9d0",
   "metadata": {
    "execution": {
     "iopub.execute_input": "2023-02-15T08:57:16.494241Z",
     "iopub.status.busy": "2023-02-15T08:57:16.493861Z",
     "iopub.status.idle": "2023-02-15T08:57:16.687302Z",
     "shell.execute_reply": "2023-02-15T08:57:16.684976Z"
    },
    "papermill": {
     "duration": 0.205138,
     "end_time": "2023-02-15T08:57:16.689550",
     "exception": false,
     "start_time": "2023-02-15T08:57:16.484412",
     "status": "completed"
    },
    "tags": []
   },
   "outputs": [
    {
     "name": "stderr",
     "output_type": "stream",
     "text": [
      "2023-02-15 08:57:16.538552: I tensorflow/core/common_runtime/process_util.cc:146] Creating new thread pool with default inter op setting: 2. Tune using inter_op_parallelism_threads for best performance.\n"
     ]
    }
   ],
   "source": [
    "model = Sequential()\n",
    "model.add(Conv2D(32, kernel_size=(3, 3), activation='relu',\n",
    "                        input_shape=(28, 28, 1), padding='same'))\n",
    "model.add(MaxPool2D(2, 2))\n",
    "model.add(Conv2D(64, kernel_size=(3, 3), activation='relu', padding='same'))\n",
    "model.add(MaxPool2D(2, 2))\n",
    "model.add(Dropout(0.5))\n",
    "\n",
    "model.add(Flatten())\n",
    "model.add(Dense(100, activation='relu'))\n",
    "model.add(Dropout(0.5))\n",
    "model.add(Dense(10, activation='softmax'))\n",
    "\n",
    "model.compile(optimizer='adam',\n",
    "          loss='sparse_categorical_crossentropy',\n",
    "          metrics=['accuracy'])"
   ]
  },
  {
   "cell_type": "code",
   "execution_count": 14,
   "id": "2b06c0f1",
   "metadata": {
    "execution": {
     "iopub.execute_input": "2023-02-15T08:57:16.708392Z",
     "iopub.status.busy": "2023-02-15T08:57:16.707145Z",
     "iopub.status.idle": "2023-02-15T08:57:16.714994Z",
     "shell.execute_reply": "2023-02-15T08:57:16.713686Z"
    },
    "papermill": {
     "duration": 0.020725,
     "end_time": "2023-02-15T08:57:16.718349",
     "exception": false,
     "start_time": "2023-02-15T08:57:16.697624",
     "status": "completed"
    },
    "tags": []
   },
   "outputs": [
    {
     "name": "stdout",
     "output_type": "stream",
     "text": [
      "Model: \"sequential\"\n",
      "_________________________________________________________________\n",
      "Layer (type)                 Output Shape              Param #   \n",
      "=================================================================\n",
      "conv2d (Conv2D)              (None, 28, 28, 32)        320       \n",
      "_________________________________________________________________\n",
      "max_pooling2d (MaxPooling2D) (None, 14, 14, 32)        0         \n",
      "_________________________________________________________________\n",
      "conv2d_1 (Conv2D)            (None, 14, 14, 64)        18496     \n",
      "_________________________________________________________________\n",
      "max_pooling2d_1 (MaxPooling2 (None, 7, 7, 64)          0         \n",
      "_________________________________________________________________\n",
      "dropout (Dropout)            (None, 7, 7, 64)          0         \n",
      "_________________________________________________________________\n",
      "flatten (Flatten)            (None, 3136)              0         \n",
      "_________________________________________________________________\n",
      "dense (Dense)                (None, 100)               313700    \n",
      "_________________________________________________________________\n",
      "dropout_1 (Dropout)          (None, 100)               0         \n",
      "_________________________________________________________________\n",
      "dense_1 (Dense)              (None, 10)                1010      \n",
      "=================================================================\n",
      "Total params: 333,526\n",
      "Trainable params: 333,526\n",
      "Non-trainable params: 0\n",
      "_________________________________________________________________\n"
     ]
    }
   ],
   "source": [
    "model.summary()"
   ]
  },
  {
   "cell_type": "code",
   "execution_count": 15,
   "id": "ad4a0ac7",
   "metadata": {
    "execution": {
     "iopub.execute_input": "2023-02-15T08:57:16.738148Z",
     "iopub.status.busy": "2023-02-15T08:57:16.737738Z",
     "iopub.status.idle": "2023-02-15T08:57:16.750706Z",
     "shell.execute_reply": "2023-02-15T08:57:16.749231Z"
    },
    "papermill": {
     "duration": 0.026054,
     "end_time": "2023-02-15T08:57:16.753150",
     "exception": false,
     "start_time": "2023-02-15T08:57:16.727096",
     "status": "completed"
    },
    "tags": []
   },
   "outputs": [],
   "source": [
    "model.compile(optimizer='rmsprop', \n",
    "              loss='sparse_categorical_crossentropy', \n",
    "              metrics='accuracy')\n"
   ]
  },
  {
   "cell_type": "code",
   "execution_count": 16,
   "id": "1449a337",
   "metadata": {
    "execution": {
     "iopub.execute_input": "2023-02-15T08:57:16.772071Z",
     "iopub.status.busy": "2023-02-15T08:57:16.771671Z",
     "iopub.status.idle": "2023-02-15T08:57:16.777124Z",
     "shell.execute_reply": "2023-02-15T08:57:16.775873Z"
    },
    "papermill": {
     "duration": 0.018261,
     "end_time": "2023-02-15T08:57:16.779798",
     "exception": false,
     "start_time": "2023-02-15T08:57:16.761537",
     "status": "completed"
    },
    "tags": []
   },
   "outputs": [],
   "source": [
    "checkpoint_cb = ModelCheckpoint('best-cnn-model.h5',\n",
    "                               save_best_only=True)\n",
    "early_stopping_cb = EarlyStopping(patience=2,\n",
    "                                 restore_best_weights=True)\n"
   ]
  },
  {
   "cell_type": "code",
   "execution_count": 17,
   "id": "ba52ad20",
   "metadata": {
    "execution": {
     "iopub.execute_input": "2023-02-15T08:57:16.798386Z",
     "iopub.status.busy": "2023-02-15T08:57:16.797921Z",
     "iopub.status.idle": "2023-02-15T08:57:16.803694Z",
     "shell.execute_reply": "2023-02-15T08:57:16.802715Z"
    },
    "papermill": {
     "duration": 0.01782,
     "end_time": "2023-02-15T08:57:16.806175",
     "exception": false,
     "start_time": "2023-02-15T08:57:16.788355",
     "status": "completed"
    },
    "tags": []
   },
   "outputs": [
    {
     "name": "stdout",
     "output_type": "stream",
     "text": [
      "(22680,)\n",
      "(22680, 28, 28, 1)\n"
     ]
    }
   ],
   "source": [
    "print(train_target.shape)\n",
    "print(train_input.shape)"
   ]
  },
  {
   "cell_type": "code",
   "execution_count": 18,
   "id": "31288bbd",
   "metadata": {
    "execution": {
     "iopub.execute_input": "2023-02-15T08:57:16.825761Z",
     "iopub.status.busy": "2023-02-15T08:57:16.825301Z",
     "iopub.status.idle": "2023-02-15T08:58:26.803376Z",
     "shell.execute_reply": "2023-02-15T08:58:26.802211Z"
    },
    "papermill": {
     "duration": 69.991712,
     "end_time": "2023-02-15T08:58:26.806255",
     "exception": false,
     "start_time": "2023-02-15T08:57:16.814543",
     "status": "completed"
    },
    "tags": []
   },
   "outputs": [
    {
     "name": "stderr",
     "output_type": "stream",
     "text": [
      "2023-02-15 08:57:17.054091: I tensorflow/compiler/mlir/mlir_graph_optimization_pass.cc:185] None of the MLIR Optimization Passes are enabled (registered 2)\n"
     ]
    },
    {
     "name": "stdout",
     "output_type": "stream",
     "text": [
      "Epoch 1/20\n",
      "709/709 [==============================] - 15s 20ms/step - loss: 1.3125 - accuracy: 0.7094 - val_loss: 0.1527 - val_accuracy: 0.9548\n",
      "Epoch 2/20\n",
      "709/709 [==============================] - 14s 20ms/step - loss: 0.3112 - accuracy: 0.9155 - val_loss: 0.1371 - val_accuracy: 0.9667\n",
      "Epoch 3/20\n",
      "709/709 [==============================] - 13s 19ms/step - loss: 0.2352 - accuracy: 0.9390 - val_loss: 0.0967 - val_accuracy: 0.9758\n",
      "Epoch 4/20\n",
      "709/709 [==============================] - 13s 19ms/step - loss: 0.2191 - accuracy: 0.9445 - val_loss: 0.1214 - val_accuracy: 0.9714\n",
      "Epoch 5/20\n",
      "709/709 [==============================] - 14s 20ms/step - loss: 0.2145 - accuracy: 0.9458 - val_loss: 0.1026 - val_accuracy: 0.9690\n"
     ]
    }
   ],
   "source": [
    "history = model.fit(train_input, train_target, \n",
    "                    epochs=20,\n",
    "                   validation_data=(val_input, val_target),\n",
    "                   callbacks=[checkpoint_cb, early_stopping_cb])"
   ]
  },
  {
   "cell_type": "code",
   "execution_count": 19,
   "id": "340eb1c7",
   "metadata": {
    "execution": {
     "iopub.execute_input": "2023-02-15T08:58:26.974888Z",
     "iopub.status.busy": "2023-02-15T08:58:26.974039Z",
     "iopub.status.idle": "2023-02-15T08:58:27.120074Z",
     "shell.execute_reply": "2023-02-15T08:58:27.119124Z"
    },
    "papermill": {
     "duration": 0.232119,
     "end_time": "2023-02-15T08:58:27.122568",
     "exception": false,
     "start_time": "2023-02-15T08:58:26.890449",
     "status": "completed"
    },
    "tags": []
   },
   "outputs": [
    {
     "data": {
      "image/png": "[encoded data removed]",
      "text/plain": [
       "<Figure size 432x288 with 1 Axes>"
      ]
     },
     "metadata": {
      "needs_background": "light"
     },
     "output_type": "display_data"
    }
   ],
   "source": [
    "plt.plot(history.history['loss'])\n",
    "plt.plot(history.history['val_loss'])\n",
    "plt.xlabel('epoch')\n",
    "plt.ylabel('loss')\n",
    "plt.show()"
   ]
  },
  {
   "cell_type": "code",
   "execution_count": 20,
   "id": "2e5b6fb5",
   "metadata": {
    "execution": {
     "iopub.execute_input": "2023-02-15T08:58:27.291997Z",
     "iopub.status.busy": "2023-02-15T08:58:27.290932Z",
     "iopub.status.idle": "2023-02-15T08:58:30.953499Z",
     "shell.execute_reply": "2023-02-15T08:58:30.952370Z"
    },
    "papermill": {
     "duration": 3.749345,
     "end_time": "2023-02-15T08:58:30.956175",
     "exception": false,
     "start_time": "2023-02-15T08:58:27.206830",
     "status": "completed"
    },
    "tags": []
   },
   "outputs": [
    {
     "name": "stdout",
     "output_type": "stream",
     "text": [
      "525/525 [==============================] - 4s 6ms/step - loss: 0.1018 - accuracy: 0.9726\n"
     ]
    },
    {
     "data": {
      "text/plain": [
       "[0.10183870047330856, 0.9726190567016602]"
      ]
     },
     "execution_count": 20,
     "metadata": {},
     "output_type": "execute_result"
    }
   ],
   "source": [
    "model.evaluate(test_input, test_target)"
   ]
  },
  {
   "cell_type": "code",
   "execution_count": 21,
   "id": "3d6da146",
   "metadata": {
    "execution": {
     "iopub.execute_input": "2023-02-15T08:58:31.133756Z",
     "iopub.status.busy": "2023-02-15T08:58:31.133048Z",
     "iopub.status.idle": "2023-02-15T08:58:31.138450Z",
     "shell.execute_reply": "2023-02-15T08:58:31.137254Z"
    },
    "papermill": {
     "duration": 0.096601,
     "end_time": "2023-02-15T08:58:31.141139",
     "exception": false,
     "start_time": "2023-02-15T08:58:31.044538",
     "status": "completed"
    },
    "tags": []
   },
   "outputs": [],
   "source": [
    "# print(test_input.shape)\n",
    "# print(test_target.shape)\n",
    "# print(train_input.shape)\n",
    "# print(train_target.shape)\n",
    "# print(val_input.shape)\n",
    "# print(val_target.shape)\n",
    "# y = to_categorical(test_target, 10)"
   ]
  },
  {
   "cell_type": "code",
   "execution_count": 22,
   "id": "8b325770",
   "metadata": {
    "execution": {
     "iopub.execute_input": "2023-02-15T08:58:31.319061Z",
     "iopub.status.busy": "2023-02-15T08:58:31.318660Z",
     "iopub.status.idle": "2023-02-15T08:58:31.323560Z",
     "shell.execute_reply": "2023-02-15T08:58:31.322384Z"
    },
    "papermill": {
     "duration": 0.095677,
     "end_time": "2023-02-15T08:58:31.326200",
     "exception": false,
     "start_time": "2023-02-15T08:58:31.230523",
     "status": "completed"
    },
    "tags": []
   },
   "outputs": [],
   "source": [
    "# import numpy as np\n",
    "# predicted_classes = np.argmax(model.predict(test_input), axis=1)\n",
    "# correct_indices = np.nonzero(predicted_classes == y)[0]\n",
    "# incorrect_indices = np.nonzero(predicted_classes != y)[0]"
   ]
  },
  {
   "cell_type": "code",
   "execution_count": 23,
   "id": "356cd850",
   "metadata": {
    "execution": {
     "iopub.execute_input": "2023-02-15T08:58:31.504930Z",
     "iopub.status.busy": "2023-02-15T08:58:31.504193Z",
     "iopub.status.idle": "2023-02-15T08:58:35.538127Z",
     "shell.execute_reply": "2023-02-15T08:58:35.536809Z"
    },
    "papermill": {
     "duration": 4.126225,
     "end_time": "2023-02-15T08:58:35.541776",
     "exception": false,
     "start_time": "2023-02-15T08:58:31.415551",
     "status": "completed"
    },
    "tags": []
   },
   "outputs": [],
   "source": [
    "y_pred = model.predict(train_input) # 예측 값\n",
    "y_predict = [np.argmax(y_pred[i]) for i in range(len(y_pred))]"
   ]
  },
  {
   "cell_type": "code",
   "execution_count": 24,
   "id": "2f40d802",
   "metadata": {
    "execution": {
     "iopub.execute_input": "2023-02-15T08:58:35.737742Z",
     "iopub.status.busy": "2023-02-15T08:58:35.737299Z",
     "iopub.status.idle": "2023-02-15T08:58:36.419633Z",
     "shell.execute_reply": "2023-02-15T08:58:36.418472Z"
    },
    "papermill": {
     "duration": 0.775976,
     "end_time": "2023-02-15T08:58:36.422574",
     "exception": false,
     "start_time": "2023-02-15T08:58:35.646598",
     "status": "completed"
    },
    "tags": []
   },
   "outputs": [
    {
     "data": {
      "image/png": "[encoded data removed]",
      "text/plain": [
       "<Figure size 720x720 with 9 Axes>"
      ]
     },
     "metadata": {
      "needs_background": "light"
     },
     "output_type": "display_data"
    }
   ],
   "source": [
    "y_list = train_target.to_list()\n",
    "plt.figure(figsize=(10,10))\n",
    "for i in range(9):\n",
    "    plt.subplot(3,3,i+1)\n",
    "    plt.imshow(train_input[i])\n",
    "    plt.axis('off')\n",
    "    plt.title('actual value : %d' %y_list[i]+ '\\n predicted value is : %d ' % y_predict[i])"
   ]
  },
  {
   "cell_type": "code",
   "execution_count": 25,
   "id": "3c5aacca",
   "metadata": {
    "execution": {
     "iopub.execute_input": "2023-02-15T08:58:36.601954Z",
     "iopub.status.busy": "2023-02-15T08:58:36.601516Z",
     "iopub.status.idle": "2023-02-15T08:58:42.035421Z",
     "shell.execute_reply": "2023-02-15T08:58:42.034151Z"
    },
    "papermill": {
     "duration": 5.527298,
     "end_time": "2023-02-15T08:58:42.038233",
     "exception": false,
     "start_time": "2023-02-15T08:58:36.510935",
     "status": "completed"
    },
    "tags": []
   },
   "outputs": [],
   "source": [
    "test = np.array(test)\n",
    "test = test.reshape(len(test),28,28,1)\n",
    "\n",
    "result = model.predict(test)\n",
    "\n",
    "predicted_val=[]\n",
    "for i in range(len(result)):\n",
    "    predicted_val.append(np.argmax(result[i]))"
   ]
  },
  {
   "cell_type": "code",
   "execution_count": 26,
   "id": "51898cbc",
   "metadata": {
    "execution": {
     "iopub.execute_input": "2023-02-15T08:58:42.217144Z",
     "iopub.status.busy": "2023-02-15T08:58:42.215910Z",
     "iopub.status.idle": "2023-02-15T08:58:42.256189Z",
     "shell.execute_reply": "2023-02-15T08:58:42.255219Z"
    },
    "papermill": {
     "duration": 0.132531,
     "end_time": "2023-02-15T08:58:42.259012",
     "exception": false,
     "start_time": "2023-02-15T08:58:42.126481",
     "status": "completed"
    },
    "tags": []
   },
   "outputs": [],
   "source": [
    "submission = pd.DataFrame()\n",
    "imgid=[]\n",
    "for i in range(1, len(predicted_val)+1):\n",
    "    imgid.append(i)\n",
    "    \n",
    "submission[\"Imageid\"]=imgid\n",
    "submission[\"Label\"]=predicted_val"
   ]
  },
  {
   "cell_type": "code",
   "execution_count": 27,
   "id": "2feb208a",
   "metadata": {
    "execution": {
     "iopub.execute_input": "2023-02-15T08:58:42.434236Z",
     "iopub.status.busy": "2023-02-15T08:58:42.433485Z",
     "iopub.status.idle": "2023-02-15T08:58:42.447450Z",
     "shell.execute_reply": "2023-02-15T08:58:42.446618Z"
    },
    "papermill": {
     "duration": 0.104117,
     "end_time": "2023-02-15T08:58:42.449897",
     "exception": false,
     "start_time": "2023-02-15T08:58:42.345780",
     "status": "completed"
    },
    "tags": []
   },
   "outputs": [
    {
     "data": {
      "text/html": [
       "<div>\n",
       "<style scoped>\n",
       "    .dataframe tbody tr th:only-of-type {\n",
       "        vertical-align: middle;\n",
       "    }\n",
       "\n",
       "    .dataframe tbody tr th {\n",
       "        vertical-align: top;\n",
       "    }\n",
       "\n",
       "    .dataframe thead th {\n",
       "        text-align: right;\n",
       "    }\n",
       "</style>\n",
       "<table border=\"1\" class=\"dataframe\">\n",
       "  <thead>\n",
       "    <tr style=\"text-align: right;\">\n",
       "      <th></th>\n",
       "      <th>Imageid</th>\n",
       "      <th>Label</th>\n",
       "    </tr>\n",
       "  </thead>\n",
       "  <tbody>\n",
       "    <tr>\n",
       "      <th>0</th>\n",
       "      <td>1</td>\n",
       "      <td>2</td>\n",
       "    </tr>\n",
       "    <tr>\n",
       "      <th>1</th>\n",
       "      <td>2</td>\n",
       "      <td>0</td>\n",
       "    </tr>\n",
       "    <tr>\n",
       "      <th>2</th>\n",
       "      <td>3</td>\n",
       "      <td>9</td>\n",
       "    </tr>\n",
       "    <tr>\n",
       "      <th>3</th>\n",
       "      <td>4</td>\n",
       "      <td>9</td>\n",
       "    </tr>\n",
       "    <tr>\n",
       "      <th>4</th>\n",
       "      <td>5</td>\n",
       "      <td>3</td>\n",
       "    </tr>\n",
       "  </tbody>\n",
       "</table>\n",
       "</div>"
      ],
      "text/plain": [
       "   Imageid  Label\n",
       "0        1      2\n",
       "1        2      0\n",
       "2        3      9\n",
       "3        4      9\n",
       "4        5      3"
      ]
     },
     "execution_count": 27,
     "metadata": {},
     "output_type": "execute_result"
    }
   ],
   "source": [
    "submission.head()"
   ]
  },
  {
   "cell_type": "code",
   "execution_count": 28,
   "id": "371ee08a",
   "metadata": {
    "execution": {
     "iopub.execute_input": "2023-02-15T08:58:42.626562Z",
     "iopub.status.busy": "2023-02-15T08:58:42.625283Z",
     "iopub.status.idle": "2023-02-15T08:58:42.662766Z",
     "shell.execute_reply": "2023-02-15T08:58:42.661667Z"
    },
    "papermill": {
     "duration": 0.127989,
     "end_time": "2023-02-15T08:58:42.665752",
     "exception": false,
     "start_time": "2023-02-15T08:58:42.537763",
     "status": "completed"
    },
    "tags": []
   },
   "outputs": [],
   "source": [
    "submission.to_csv('submission.csv',index=False)"
   ]
  }
 ],
 "metadata": {
  "kernelspec": {
   "display_name": "Python 3",
   "language": "python",
   "name": "python3"
  },
  "language_info": {
   "codemirror_mode": {
    "name": "ipython",
    "version": 3
   },
   "file_extension": ".py",
   "mimetype": "text/x-python",
   "name": "python",
   "nbconvert_exporter": "python",
   "pygments_lexer": "ipython3",
   "version": "3.7.12"
  },
  "papermill": {
   "default_parameters": {},
   "duration": 117.803279,
   "end_time": "2023-02-15T08:58:46.171695",
   "environment_variables": {},
   "exception": null,
   "input_path": "__notebook__.ipynb",
   "output_path": "__notebook__.ipynb",
   "parameters": {},
   "start_time": "2023-02-15T08:56:48.368416",
   "version": "2.3.4"
  }
 },
 "nbformat": 4,
 "nbformat_minor": 5
}
